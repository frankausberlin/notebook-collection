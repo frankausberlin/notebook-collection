{
  "nbformat": 4,
  "nbformat_minor": 0,
  "metadata": {
    "colab": {
      "provenance": [],
      "toc_visible": true,
      "gpuType": "V100",
      "authorship_tag": "ABX9TyPs/Ps5xKnqgKNsis9ehZzP",
      "include_colab_link": true
    },
    "kernelspec": {
      "name": "python3",
      "display_name": "Python 3"
    },
    "language_info": {
      "name": "python"
    },
    "accelerator": "GPU",
    "widgets": {
      "application/vnd.jupyter.widget-state+json": {
        "5625ef2726f4429bb6136aa395a5a565": {
          "model_module": "@jupyter-widgets/controls",
          "model_name": "AccordionModel",
          "model_module_version": "1.5.0",
          "state": {
            "_dom_classes": [],
            "_model_module": "@jupyter-widgets/controls",
            "_model_module_version": "1.5.0",
            "_model_name": "AccordionModel",
            "_titles": {
              "0": "history - click to expand"
            },
            "_view_count": null,
            "_view_module": "@jupyter-widgets/controls",
            "_view_module_version": "1.5.0",
            "_view_name": "AccordionView",
            "box_style": "",
            "children": [
              "IPY_MODEL_b8b52c0a87e04a3da7f566bdf7b7054a"
            ],
            "layout": "IPY_MODEL_28218ad78b6a42b2ae477246d5dff818",
            "selected_index": null
          }
        },
        "b8b52c0a87e04a3da7f566bdf7b7054a": {
          "model_module": "@jupyter-widgets/controls",
          "model_name": "TextareaModel",
          "model_module_version": "1.5.0",
          "state": {
            "_dom_classes": [],
            "_model_module": "@jupyter-widgets/controls",
            "_model_module_version": "1.5.0",
            "_model_name": "TextareaModel",
            "_view_count": null,
            "_view_module": "@jupyter-widgets/controls",
            "_view_module_version": "1.5.0",
            "_view_name": "TextareaView",
            "continuous_update": true,
            "description": "",
            "description_tooltip": null,
            "disabled": false,
            "layout": "IPY_MODEL_6751a50face34bdf874f06ffb19d1690",
            "placeholder": "​",
            "rows": null,
            "style": "IPY_MODEL_5da825c38f1e48b2a9481ac6c882f3b6",
            "value": ""
          }
        },
        "28218ad78b6a42b2ae477246d5dff818": {
          "model_module": "@jupyter-widgets/base",
          "model_name": "LayoutModel",
          "model_module_version": "1.2.0",
          "state": {
            "_model_module": "@jupyter-widgets/base",
            "_model_module_version": "1.2.0",
            "_model_name": "LayoutModel",
            "_view_count": null,
            "_view_module": "@jupyter-widgets/base",
            "_view_module_version": "1.2.0",
            "_view_name": "LayoutView",
            "align_content": null,
            "align_items": null,
            "align_self": null,
            "border": null,
            "bottom": null,
            "display": null,
            "flex": null,
            "flex_flow": null,
            "grid_area": null,
            "grid_auto_columns": null,
            "grid_auto_flow": null,
            "grid_auto_rows": null,
            "grid_column": null,
            "grid_gap": null,
            "grid_row": null,
            "grid_template_areas": null,
            "grid_template_columns": null,
            "grid_template_rows": null,
            "height": null,
            "justify_content": null,
            "justify_items": null,
            "left": null,
            "margin": null,
            "max_height": null,
            "max_width": null,
            "min_height": null,
            "min_width": null,
            "object_fit": null,
            "object_position": null,
            "order": null,
            "overflow": null,
            "overflow_x": null,
            "overflow_y": null,
            "padding": null,
            "right": null,
            "top": null,
            "visibility": null,
            "width": null
          }
        },
        "6751a50face34bdf874f06ffb19d1690": {
          "model_module": "@jupyter-widgets/base",
          "model_name": "LayoutModel",
          "model_module_version": "1.2.0",
          "state": {
            "_model_module": "@jupyter-widgets/base",
            "_model_module_version": "1.2.0",
            "_model_name": "LayoutModel",
            "_view_count": null,
            "_view_module": "@jupyter-widgets/base",
            "_view_module_version": "1.2.0",
            "_view_name": "LayoutView",
            "align_content": null,
            "align_items": null,
            "align_self": null,
            "border": null,
            "bottom": null,
            "display": null,
            "flex": null,
            "flex_flow": null,
            "grid_area": null,
            "grid_auto_columns": null,
            "grid_auto_flow": null,
            "grid_auto_rows": null,
            "grid_column": null,
            "grid_gap": null,
            "grid_row": null,
            "grid_template_areas": null,
            "grid_template_columns": null,
            "grid_template_rows": null,
            "height": "200px",
            "justify_content": null,
            "justify_items": null,
            "left": null,
            "margin": null,
            "max_height": null,
            "max_width": null,
            "min_height": null,
            "min_width": null,
            "object_fit": null,
            "object_position": null,
            "order": null,
            "overflow": null,
            "overflow_x": null,
            "overflow_y": null,
            "padding": null,
            "right": null,
            "top": null,
            "visibility": null,
            "width": "auto"
          }
        },
        "5da825c38f1e48b2a9481ac6c882f3b6": {
          "model_module": "@jupyter-widgets/controls",
          "model_name": "DescriptionStyleModel",
          "model_module_version": "1.5.0",
          "state": {
            "_model_module": "@jupyter-widgets/controls",
            "_model_module_version": "1.5.0",
            "_model_name": "DescriptionStyleModel",
            "_view_count": null,
            "_view_module": "@jupyter-widgets/base",
            "_view_module_version": "1.2.0",
            "_view_name": "StyleView",
            "description_width": ""
          }
        }
      }
    }
  },
  "cells": [
    {
      "cell_type": "markdown",
      "metadata": {
        "id": "view-in-github",
        "colab_type": "text"
      },
      "source": [
        "<a href=\"https://colab.research.google.com/github/frankausberlin/notebook-collection/blob/main/environmentnotebook.ipynb\" target=\"_parent\"><img src=\"https://colab.research.google.com/assets/colab-badge.svg\" alt=\"Open In Colab\"/></a>"
      ]
    },
    {
      "cell_type": "markdown",
      "source": [
        "# Data Science Environments"
      ],
      "metadata": {
        "id": "d5ZARwpvoHDm"
      }
    },
    {
      "cell_type": "markdown",
      "source": [
        "## pt, px - PyTorch\n",
        "\n",
        "<font size='+1'>PyTorch runtime base (pt)</font>\n",
        "* with google colab, matplotlib, and ipywidgets\n",
        "\n",
        "```shell\n",
        "mamba deactivate && \\\n",
        "mamba remove -q -n pt --all && \\\n",
        "mamba create -y -n pt \"python=3.9\" \"jupyterlab<4.0.0\" jupyter_http_over_ws matplotlib google-colab \"ipywidgets<8.0.0\" && \\\n",
        "mamba activate pt && \\\n",
        "jupyter server extension enable --py jupyter_http_over_ws && \\\n",
        "pip install -U \"jupyter-server<2.0.0\" && \\\n",
        "mamba install -y pytorch torchvision torchaudio pytorch-cuda=12.1 -c pytorch -c nvidia\n",
        "```\n",
        "\n",
        "<font size='+1'>PyTorch runtime extended (px)</font>\n",
        "* pt clone with:\n",
        "\n",
        "```shell\n",
        "mamba deactivate && \\\n",
        "mamba remove -q -n px --all && \\\n",
        "mamba create -y -n px --clone pt && \\\n",
        "mamba activate px && \\\n",
        "pip install -U scikit-learn pandas scipy tqdm fastai fastbook\n",
        "\n",
        "```\n",
        "\n"
      ],
      "metadata": {
        "id": "eGAHWnNolMGf"
      }
    },
    {
      "cell_type": "code",
      "source": [
        "#@markdown check PyTorch Cuda\n",
        "import torch\n",
        "torch.cuda.is_available()\n"
      ],
      "metadata": {
        "colab": {
          "base_uri": "https://localhost:8080/"
        },
        "id": "hJ46-chfFqeF",
        "outputId": "4717e8bd-8a26-4718-9e77-846bab9e049c",
        "cellView": "form"
      },
      "execution_count": null,
      "outputs": [
        {
          "output_type": "execute_result",
          "data": {
            "text/plain": [
              "True"
            ]
          },
          "metadata": {},
          "execution_count": 1
        }
      ]
    },
    {
      "cell_type": "markdown",
      "source": [
        "## tf, tx - TensorFlow\n",
        "\n",
        "<font size='+1'>TensorFlow runtime base (tf)</font>\n",
        "* with google colab and ipywidgets\n",
        "\n",
        "```shell\n",
        "mamba deactivate && \\\n",
        "mamba remove -q -n tf --all && \\\n",
        "mamba create -y -n tf \"python=3.9\" \"jupyterlab<4.0.0\" jupyter_http_over_ws matplotlib google-colab \"ipywidgets<8.0.0\" && \\\n",
        "mamba activate tf && \\\n",
        "jupyter server extension enable --py jupyter_http_over_ws && \\\n",
        "pip install -U \"jupyter-server<2.0.0\" && \\\n",
        "pip install tensorflow[and-cuda]\n",
        "```\n",
        "\n",
        "<font size='+1'>TensorFlow runtime extended (px)</font>\n",
        "* tf clone with:\n",
        "\n",
        "```shell\n",
        "mamba deactivate && \\\n",
        "mamba remove -q -n tx --all && \\\n",
        "mamba create -y -n tx --clone tf && \\\n",
        "mamba activate tx && \\\n",
        "pip install -U scikit-learn pandas scipy tqdm opencv-python\n",
        "```\n"
      ],
      "metadata": {
        "id": "-DU2zfwfMIxo"
      }
    },
    {
      "cell_type": "code",
      "source": [
        "#@markdown check TensorFlow Cuda\n",
        "import tensorflow as tf\n",
        "tf.config.list_physical_devices('GPU')"
      ],
      "metadata": {
        "colab": {
          "base_uri": "https://localhost:8080/"
        },
        "id": "VgvuCJb8MnU6",
        "outputId": "748045b1-bcf8-44a9-d3b6-56614fd7a996",
        "cellView": "form"
      },
      "execution_count": null,
      "outputs": [
        {
          "output_type": "execute_result",
          "data": {
            "text/plain": [
              "[PhysicalDevice(name='/physical_device:GPU:0', device_type='GPU')]"
            ]
          },
          "metadata": {},
          "execution_count": 3
        }
      ]
    },
    {
      "cell_type": "markdown",
      "source": [
        "## ml, mx - PyTorch & TensorFlow\n",
        "\n",
        "\n",
        "<font size='+1'>PyTorch & TensorFlow runtime base (ml)</font>\n",
        "* with google colab and ipywidgets\n",
        "\n",
        "```shell\n",
        "mamba deactivate && \\\n",
        "mamba remove -q -n ml --all && \\\n",
        "mamba create -y -n ml \"python=3.9\" \"jupyterlab<4.0.0\" jupyter_http_over_ws matplotlib google-colab \"ipywidgets<8.0.0\" && \\\n",
        "mamba activate ml && \\\n",
        "jupyter server extension enable --py jupyter_http_over_ws && \\\n",
        "pip install -U \"jupyter-server<2.0.0\" && \\\n",
        "mamba install -y pytorch torchvision torchaudio pytorch-cuda=12.1 -c pytorch -c nvidia && \\\n",
        "pip install tensorflow[and-cuda]\n",
        "```\n",
        "\n",
        "<font size='+1'>PyTorch & TensorFlow runtime extended (mx)</font>\n",
        "* ml clone with:\n",
        "\n",
        "```shell\n",
        "mamba deactivate && \\\n",
        "mamba remove -q -n mx --all && \\\n",
        "mamba create -y -n mx --clone ml && \\\n",
        "mamba activate mx && \\\n",
        "pip install -U scikit-learn pandas scipy tqdm fastai fastbook opencv-python\n",
        "```\n"
      ],
      "metadata": {
        "id": "VgyQc2uiQR0A"
      }
    },
    {
      "cell_type": "code",
      "source": [
        "#@markdown check both Cuda\n",
        "import torch, tensorflow as tf\n",
        "\n",
        "print (f\"pt-cuda: {torch.cuda.is_available()}, tf-cuda: {':GPU:' in str(tf.config.list_physical_devices('GPU'))}\")\n",
        "\n"
      ],
      "metadata": {
        "colab": {
          "base_uri": "https://localhost:8080/"
        },
        "cellView": "form",
        "id": "kdpYdYOeSrcs",
        "outputId": "46f4c9e9-f19b-4ed0-effe-29af3f352549"
      },
      "execution_count": null,
      "outputs": [
        {
          "output_type": "stream",
          "name": "stdout",
          "text": [
            "pt-cuda: True, tf-cuda: True\n"
          ]
        }
      ]
    },
    {
      "cell_type": "markdown",
      "source": [
        "##<font size='+2'>start jupyter</font>\n",
        "\n",
        "**Variation A**: without token - ok at home\n",
        "* <font color='red' size='+2'>Attention!</font> you have to customize the **notebook-dir** parameter (default is '/content')\n",
        "\n",
        "* read here: https://stackoverflow.com/questions/42233102/how-to-create-an-insecure-jupyter-server\n",
        "\n",
        "```shell\n",
        "jupyter notebook \\\n",
        "  --log-level 30 \\\n",
        "  --notebook-dir=\"/content\" \\\n",
        "  --NotebookApp.allow_origin='https://colab.research.google.com' \\\n",
        "  --port=8888 \\\n",
        "  --NotebookApp.port_retries=0 \\\n",
        "  --allow-root \\\n",
        "  --NotebookApp.token='' \\\n",
        "  --NotebookApp.disable_check_xsrf=True\n",
        "```\n",
        "\n",
        "**Variation B**: standard with token\n",
        "\n",
        "```shell\n",
        "jupyter notebook \\\n",
        "  --log-level 30 \\\n",
        "  --notebook-dir \"/content\" \\\n",
        "  --NotebookApp.allow_origin='*' \\\n",
        "  --port=8888 \\\n",
        "  --NotebookApp.port_retries=0\n",
        "```\n"
      ],
      "metadata": {
        "id": "JHRoWCDJSgnA"
      }
    },
    {
      "cell_type": "code",
      "source": [
        "#@markdown Run this cell to write a bash script called **jn** in the current folder to start jupyter notebook.\n",
        "#@markdown * <font color='red' size='+2'>Attention!</font> you have to customize the **notebook-dir** parameter (default is '/content')\n",
        "#@markdown * Variation A: ```>bash ./jn x```\n",
        "#@markdown * Variation B: ```>bash ./jn```\n",
        "%%writefile jn\n",
        "#!/bin/bash\n",
        "if [[ $1 = 'x' ]]\n",
        "then\n",
        "\techo '!!!ATENTION!!! every one in your network can access your local folder'\n",
        "\techo 'use http://localhost:8888/ to conncect local runtime'\n",
        "\tjupyter notebook \\\n",
        "\t   --log-level 30 \\\n",
        "\t   --notebook-dir=\"/content\" \\\n",
        "\t   --NotebookApp.allow_origin='https://colab.research.google.com' \\\n",
        "\t   --port=8888 --NotebookApp.port_retries=0 \\\n",
        "\t   --allow-root \\\n",
        "\t   --NotebookApp.token='' \\\n",
        "\t   --NotebookApp.disable_check_xsrf=True\n",
        "else\n",
        "\techo 'copy the localhost-url with the token and past it to colab when you conncect local runtime'\n",
        "\tjupyter notebook \\\n",
        "\t   --log-level 30 \\\n",
        "\t   --notebook-dir \"/content\" \\\n",
        "\t   --NotebookApp.allow_origin='*' \\\n",
        "\t   --port=8888 \\\n",
        "\t   --NotebookApp.port_retries=0\n",
        "fi\n"
      ],
      "metadata": {
        "colab": {
          "base_uri": "https://localhost:8080/"
        },
        "cellView": "form",
        "id": "gf5ShN4-VkIF",
        "outputId": "f6981ea0-552e-4aa1-f8f4-9bb954a5fbd5"
      },
      "execution_count": null,
      "outputs": [
        {
          "output_type": "stream",
          "name": "stdout",
          "text": [
            "Overwriting jn\n"
          ]
        }
      ]
    },
    {
      "cell_type": "markdown",
      "source": [
        "# Docker\n",
        "\n",
        "![5b208976-b632-11e5-8406-38d379ec46aa.png](data:image/png;base64,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)"
      ],
      "metadata": {
        "id": "oa3F3wGgeZA2"
      }
    },
    {
      "cell_type": "markdown",
      "source": [
        "* clean remove docker-ce, docker-desktop and nvidia-docker\n",
        ">```shell\n",
        "sudo apt-get purge -y nvidia-docker2\n",
        "sudo apt-get remove -y docker-desktop\n",
        "rm -r $HOME/.docker/desktop\n",
        "sudo rm /usr/local/bin/com.docker.cli\n",
        "sudo apt-get -y purge docker-desktop\n",
        "sudo apt-get -y purge docker-engine\n",
        "sudo apt-get -y autoremove --purge docker-engine\n",
        "sudo rm -rf /var/lib/docker # This deletes all images, containers, and volumes\n",
        "rm -rf ~/.docker\n",
        "sudo find /etc/apt -type f -name *docker* -delete\n",
        "sudo apt-get update\n",
        "```\n",
        "\n",
        "* [install docker desktop](https://docs.docker.com/desktop/install/ubuntu/):\n",
        ">```shell\n",
        "sudo apt-get update\n",
        "sudo apt-get install ca-certificates curl gnupg\n",
        "sudo install -m 0755 -d /etc/apt/keyrings\n",
        "curl -fsSL https://download.docker.com/linux/ubuntu/gpg | sudo gpg --dearmor -o /etc/apt/keyrings/docker.gpg\n",
        "sudo chmod a+r /etc/apt/keyrings/docker.gpg\n",
        "echo \\\n",
        "  \"deb [arch=\"$(dpkg --print-architecture)\" signed-by=/etc/apt/keyrings/docker.gpg] https://download.docker.com/linux/ubuntu \\\n",
        "  \"$(. /etc/os-release && echo \"$VERSION_CODENAME\")\" stable\" | \\\n",
        "  sudo tee /etc/apt/sources.list.d/docker.list > /dev/null\n",
        "sudo apt-get update\n",
        "sudo apt-get install ./docker-desktop*.deb\n",
        "```\n",
        "\n",
        "* [install nvidia toolkit for docker:](https://docs.nvidia.com/datacenter/cloud-native/container-toolkit/1.13.5/install-guide.html)\n",
        ">```shell\n",
        "curl -fsSL https://nvidia.github.io/libnvidia-container/gpgkey | sudo gpg --dearmor -o /usr/share/keyrings/nvidia-container-toolkit-keyring.gpg \\\n",
        "  && curl -s -L https://nvidia.github.io/libnvidia-container/stable/deb/nvidia-container-toolkit.list | \\\n",
        "    sed 's#deb https://#deb [signed-by=/usr/share/keyrings/nvidia-container-toolkit-keyring.gpg] https://#g' | \\\n",
        "    sudo tee /etc/apt/sources.list.d/nvidia-container-toolkit.list \\\n",
        "  && \\\n",
        "    sudo apt-get update\n",
        "sudo apt-get install -y nvidia-container-toolkit\n",
        "sudo nvidia-ctk runtime configure --runtime=docker\n",
        "sudo systemctl restart docker\n",
        "sudo nvidia-ctk runtime configure --runtime=containerd\n",
        "sudo systemctl restart containerd\n",
        "```\n"
      ],
      "metadata": {
        "id": "H7AKEPZfjTpA"
      }
    },
    {
      "cell_type": "code",
      "source": [
        "#@markdown <font size='+2'>check nvidia toolkit</font> (cuda in container)<br>\n",
        "#@markdown run a container with:<br>\n",
        "#@markdown > ```sudo docker run --rm --runtime=nvidia --gpus all ubuntu nvidia-smi```\n",
        "\n",
        "import getpass, os\n",
        "\n",
        "command  = \"sudo -S docker run --rm --runtime=nvidia --gpus all ubuntu nvidia-smi\" # -S enables input from stdin\n",
        "password = getpass.getpass(prompt=f'Run the cell executes the command (needs sudo-pw):\\n  >')\n",
        "os.system ('echo %s | %s' % (password, command))\n"
      ],
      "metadata": {
        "colab": {
          "base_uri": "https://localhost:8080/"
        },
        "cellView": "form",
        "id": "In4lhZn-aw0c",
        "outputId": "055a7081-ffc8-42fc-9384-c94cbf95249f"
      },
      "execution_count": null,
      "outputs": [
        {
          "name": "stdout",
          "output_type": "stream",
          "text": [
            "Run the cell executes the command (needs sudo-pw):\n",
            "  >··········\n"
          ]
        },
        {
          "output_type": "stream",
          "name": "stderr",
          "text": [
            "[sudo] Passwort für frank: "
          ]
        },
        {
          "output_type": "stream",
          "name": "stdout",
          "text": [
            "Mon Nov  6 21:26:39 2023       \n",
            "+---------------------------------------------------------------------------------------+\n",
            "| NVIDIA-SMI 530.30.02              Driver Version: 530.30.02    CUDA Version: 12.1     |\n",
            "|-----------------------------------------+----------------------+----------------------+\n",
            "| GPU  Name                  Persistence-M| Bus-Id        Disp.A | Volatile Uncorr. ECC |\n",
            "| Fan  Temp  Perf            Pwr:Usage/Cap|         Memory-Usage | GPU-Util  Compute M. |\n",
            "|                                         |                      |               MIG M. |\n",
            "|=========================================+======================+======================|\n",
            "|   0  NVIDIA GeForce RTX 3060 Ti      On | 00000000:2D:00.0 Off |                  N/A |\n",
            "|  0%   50C    P8               16W / 200W|    287MiB /  8192MiB |     23%      Default |\n",
            "|                                         |                      |                  N/A |\n",
            "+-----------------------------------------+----------------------+----------------------+\n",
            "                                                                                         \n",
            "+---------------------------------------------------------------------------------------+\n",
            "| Processes:                                                                            |\n",
            "|  GPU   GI   CI        PID   Type   Process name                            GPU Memory |\n",
            "|        ID   ID                                                             Usage      |\n",
            "|=======================================================================================|\n",
            "+---------------------------------------------------------------------------------------+\n"
          ]
        },
        {
          "output_type": "execute_result",
          "data": {
            "text/plain": [
              "0"
            ]
          },
          "metadata": {},
          "execution_count": 14
        }
      ]
    },
    {
      "cell_type": "markdown",
      "source": [
        "# shell"
      ],
      "metadata": {
        "id": "Rraz3oHUZl2W"
      }
    },
    {
      "cell_type": "code",
      "source": [
        "#@markdown command shell { form-width: \"300px\" }\n",
        "#@markdown * using [jQuery Terminal](https://terminal.jcubic.pl/) - example on [github](https://github.com/alessandrobessi/colab-shell)\n",
        "#\n",
        "%matplotlib inline\n",
        "import                            os\n",
        "from   google.colab       import  output                # for register callback\n",
        "from   IPython.display    import  display, HTML, JSON   # draw the shell box with IPython\n",
        "from   subprocess         import  getoutput             # to exectute command and get output\n",
        "from   ipywidgets         import  Accordion, Textarea   # used for history\n",
        "\n",
        "width  = 1000 #@param {type: \"slider\", min: 400, max: 1200, step: 100}\n",
        "height = 400 #@param {type: \"slider\", min: 100, max: 800, step: 100}\n",
        "printHistory = True #@param {type:\"boolean\"}\n",
        "\n",
        "\n",
        "# function for invoke-callback-mechanism\n",
        "def shell(command):\n",
        "  global taHistory, acHistory\n",
        "  # put command to history textarea and set accordion title\n",
        "  if printHistory:\n",
        "    taHistory.value += command + '\\n'\n",
        "    acHistory.set_title (0,f'history - last command: {command.split(\" \")[0]}')\n",
        "\n",
        "  # catch cd-command\n",
        "  if command.startswith('cd'):\n",
        "    path = command.strip().split(maxsplit=1)[1]\n",
        "    os.chdir(path)\n",
        "    return JSON([''])\n",
        "\n",
        "  # all other commands\n",
        "  return JSON([getoutput(command)])\n",
        "\n",
        "# register to invoke\n",
        "output.register_callback('shell', shell)\n",
        "\n",
        "# create command tab using javascript with 'display(HTML(...'\n",
        "display(HTML('''\n",
        "  <div id=term_demo></div>\n",
        "  <script src=\"https://code.jquery.com/jquery-latest.js\"></script>\n",
        "  <script src=\"https://cdn.jsdelivr.net/npm/jquery.terminal/js/jquery.terminal.min.js\"></script>\n",
        "  <link href=\"https://cdn.jsdelivr.net/npm/jquery.terminal/css/jquery.terminal.min.css\" rel=\"stylesheet\"/>\n",
        "  <script>\n",
        "    $('#term_demo').terminal(async function(command) {\n",
        "        if (command !== '') {\n",
        "            try {\n",
        "                let res = await google.colab.kernel.invokeFunction('shell', [command])\n",
        "                let out = res.data['application/json'][0]\n",
        "                this.echo(new String(out))\n",
        "            } catch(e) {\n",
        "                this.error(new String(e));\n",
        "            }\n",
        "        } else {\n",
        "            this.echo('');\n",
        "        }\n",
        "    }, {\n",
        "        greetings: 'Welcome to Colab Shell',\n",
        "        name: 'colab_shell',\n",
        "        height: '''+str(height)+''',\n",
        "        width: '''+str(width)+''',\n",
        "        prompt: 'colab > '\n",
        "    });\n",
        "  </script>'''))\n",
        "\n",
        "# History\n",
        "taHistory = Textarea (layout={'width':'auto', 'height':'200px'})\n",
        "acHistory = Accordion (children=[taHistory])\n",
        "acHistory.set_title (0,'history - click to expand')\n",
        "acHistory.selected_index = None\n",
        "if printHistory:\n",
        "  display (acHistory)"
      ],
      "metadata": {
        "colab": {
          "base_uri": "https://localhost:8080/",
          "height": 461,
          "referenced_widgets": [
            "5625ef2726f4429bb6136aa395a5a565",
            "b8b52c0a87e04a3da7f566bdf7b7054a",
            "28218ad78b6a42b2ae477246d5dff818",
            "6751a50face34bdf874f06ffb19d1690",
            "5da825c38f1e48b2a9481ac6c882f3b6"
          ]
        },
        "cellView": "form",
        "id": "T727d129s8G-",
        "outputId": "5405815d-22e0-4ed8-9d58-4cd1f1f200c3"
      },
      "execution_count": 2,
      "outputs": [
        {
          "output_type": "display_data",
          "data": {
            "text/plain": [
              "<IPython.core.display.HTML object>"
            ],
            "text/html": [
              "\n",
              "  <div id=term_demo></div>\n",
              "  <script src=\"https://code.jquery.com/jquery-latest.js\"></script>\n",
              "  <script src=\"https://cdn.jsdelivr.net/npm/jquery.terminal/js/jquery.terminal.min.js\"></script>\n",
              "  <link href=\"https://cdn.jsdelivr.net/npm/jquery.terminal/css/jquery.terminal.min.css\" rel=\"stylesheet\"/>\n",
              "  <script>\n",
              "    $('#term_demo').terminal(async function(command) {\n",
              "        if (command !== '') {\n",
              "            try {\n",
              "                let res = await google.colab.kernel.invokeFunction('shell', [command])\n",
              "                let out = res.data['application/json'][0]\n",
              "                this.echo(new String(out))\n",
              "            } catch(e) {\n",
              "                this.error(new String(e));\n",
              "            }\n",
              "        } else {\n",
              "            this.echo('');\n",
              "        }\n",
              "    }, {\n",
              "        greetings: 'Welcome to Colab Shell',\n",
              "        name: 'colab_shell',\n",
              "        height: 400,\n",
              "        width: 1000,\n",
              "        prompt: 'colab > '\n",
              "    });\n",
              "  </script>"
            ]
          },
          "metadata": {}
        },
        {
          "output_type": "display_data",
          "data": {
            "text/plain": [
              "Accordion(children=(Textarea(value='', layout=Layout(height='200px', width='auto')),), selected_index=None, _t…"
            ],
            "application/vnd.jupyter.widget-view+json": {
              "version_major": 2,
              "version_minor": 0,
              "model_id": "5625ef2726f4429bb6136aa395a5a565"
            }
          },
          "metadata": {}
        }
      ]
    }
  ]
}