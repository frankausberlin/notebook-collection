{
  "nbformat": 4,
  "nbformat_minor": 0,
  "metadata": {
    "colab": {
      "provenance": [],
      "collapsed_sections": [],
      "toc_visible": true,
      "authorship_tag": "ABX9TyPyZ2k3pRDNkAXy1jlNO5RA",
      "include_colab_link": true
    },
    "kernelspec": {
      "name": "python3",
      "display_name": "Python 3"
    },
    "language_info": {
      "name": "python"
    }
  },
  "cells": [
    {
      "cell_type": "markdown",
      "metadata": {
        "id": "view-in-github",
        "colab_type": "text"
      },
      "source": [
        "<a href=\"https://colab.research.google.com/github/frankausberlin/notebook-collection/blob/main/neuralnetworknotebook.ipynb\" target=\"_parent\"><img src=\"https://colab.research.google.com/assets/colab-badge.svg\" alt=\"Open In Colab\"/></a>"
      ]
    },
    {
      "cell_type": "markdown",
      "source": [
        "# The Neural Network Notebook\n",
        "\n",
        "This is a little cheat sheet to describe the essence of what is called a (**feed forward**) **neural network**.\n",
        "\n",
        "To understand you have to know some basic concepts which you can find around a bunch of keywords - these are the most important: \n",
        "\n",
        "<table width='600'>\n",
        "<tr><td><p><b>Perceptron<br><br>Parameter</td><td><p><b>Data<br><br>Batches</td><td><p><b>Layer<br><br>Model</td><td><p><b>Training<br><br>Optimizer</td><td><p><b>Loss<br><br>Metric</td></tr>\n",
        "<tr><td colspan=5>In the following, further <b>keywords</b> are shown in bold type.</td></tr>\n",
        "</table><br>\n",
        "\n",
        "I use Pytorch as library. The self-made classes serves to improve understanding. These are limited to the basic functionality and are to be seen as excerpts from the library classes.\n"
      ],
      "metadata": {
        "id": "ekEFR0k4uNLo"
      }
    },
    {
      "cell_type": "markdown",
      "source": [
        "# Perceptron & Parameter\n",
        "\n",
        "<table>\n",
        "<tr><td>\n",
        "<img src='https://drive.google.com/uc?id=1cehK_fxj8vtBX1df3aKWF6RSOygzIAiR' width=\"300\">\n",
        "</td><td>\n",
        "\n",
        "* A Perceptron gets a **stimulation** $s()$ and do an **activation** $a()$.<br><br>\n",
        "* The stimulation is a function which maps a lot of x to one y.<br> \n",
        "$y=s(x_1,x_2,...,x_n)$<br><br>\n",
        "* The Perceptron provides **parameters** for that function: **weights**<br> for every x and one **bias**. <br>$y=x_1w_1+x_2w_2+...+x_nw_n+b$<br><br>\n",
        "* The activation is an other function that gets the result of the<br>stimulation and bring it in a special form (**sigmoid**, **ReLU** etc.).<br>$y = a(s(x))$<br>\n",
        "</td></tr>\n",
        "<tabel>\n",
        "\n",
        "<table><tr></tr><tr><td><img src='https://drive.google.com/uc?id=1wpQFjcKY7jrAPXr5yUF_spOn4eK9yjDB' width=\"12\"></td><td>threshold symbol &emsp;&emsp;'$\\bullet$': dot symbol ($x\\bullet w+b$; in python: <i>x@weights + bias)</i></td></tr></table>\n"
      ],
      "metadata": {
        "id": "XEK_lPNE1zUE"
      }
    },
    {
      "cell_type": "code",
      "execution_count": null,
      "metadata": {
        "colab": {
          "base_uri": "https://localhost:8080/"
        },
        "id": "09e8Lu4htoxL",
        "outputId": "d68552ed-4cea-491c-f150-483933d822e0"
      },
      "outputs": [
        {
          "output_type": "execute_result",
          "data": {
            "text/plain": [
              "tensor([0.3457])"
            ]
          },
          "metadata": {},
          "execution_count": 20
        }
      ],
      "source": [
        "from torch import randn, tensor, sigmoid, manual_seed\n",
        "manual_seed (0)\n",
        "\n",
        "class Perceptron:\n",
        "  bias, weights, activation = None, None, None\n",
        "\n",
        "  def __init__(self, signals, activation=lambda x:x):\n",
        "    self.weights, self.bias, self.activation = randn (signals), randn (1), activation\n",
        "\n",
        "  def __call__ (self,x): \n",
        "    return self.activation ( x@self.weights + self.bias )\n",
        "\n",
        "# usage\n",
        "p = Perceptron (2,sigmoid)\n",
        "x = tensor ([1.0, 0.0])\n",
        "p(x)"
      ]
    },
    {
      "cell_type": "markdown",
      "source": [
        "# Data & Batches\n",
        "\n",
        "In **supervised** learning you have **datasets**. That are pairs of input data with its **labels**. The input data are also called **features**. \n",
        "\n",
        "* The features and labels must often be converted into a special format (**normalization**, **categories**, **scaling** etc.)\n",
        "* To train a neural network we need the data in a special structur: the **batches**.\n",
        "* A batch is a small chunk of data set with a defined **batch size**, mostly shuffled.\n",
        "* The batch is the input for one **step** of the optimization process.\n",
        "\n",
        "**Example Data**\n",
        "\n",
        "* As example we use the **mnist** dataset. It includes 60000 **training** and 10000 **validation** datasets.\n",
        "* The input are 28x28 pixel pictures of hand written digits and the corresponding label (a number between 0 and 9).\n",
        "* The labels (or expected) are numbers and will be **one-hot-encoded**. That means:\n",
        ">0 --> 1000000000<br>7 --> 0000000100 usw.\n",
        "\n"
      ],
      "metadata": {
        "id": "2qe8Fin-28qv"
      }
    },
    {
      "cell_type": "code",
      "source": [
        "import                       random, torch, numpy as np\n",
        "from matplotlib      import  pyplot as plt\n",
        "from torchvision     import  datasets\n",
        "\n",
        "class Batches:\n",
        "  batches    = None\n",
        "  pos        = 0\n",
        "\n",
        "  def __init__(self, XY, batchSize=-1):\n",
        "    complete, self.batches, self.pos = list(zip(*XY)), [], 0\n",
        "    device = torch.device('cuda' if torch.cuda.is_available() else 'cpu')\n",
        "    random.shuffle (complete)\n",
        "    if batchSize <= 0:\n",
        "      (x,y) = zip (*complete)\n",
        "      self.batches.append ( ( torch.tensor(np.array(x),device=device).reshape((len(x),-1)).float(), \n",
        "                              torch.tensor(np.array(y),device=device).reshape((len(y),-1)).float() ) )\n",
        "    else:\n",
        "      for p in range (0,len(complete),batchSize):\n",
        "        (x,y) = zip (*complete[p:p+batchSize] ) if p+batchSize < len(complete) else zip (*complete[p:])\n",
        "        self.batches.append ( ( torch.tensor(np.array(x),device=device).reshape((len(x),-1)).float(), \n",
        "                                torch.tensor(np.array(y),device=device).reshape((len(y),-1)).float() ) )\n",
        "\n",
        "  def __iter__(self):                   self.pos = 0; return self\n",
        "  def __next__(self): \n",
        "    if self.pos < len (self.batches):   self.pos += 1; return self.batches[self.pos-1]\n",
        "    else:                               self.pos  = 0; raise StopIteration\n",
        "\n",
        "# mnist data\n",
        "ds_train = datasets.MNIST(root=\"data\", train=True, download=True)\n",
        "ds_test  = datasets.MNIST(root=\"data\", train=False, download=True)\n",
        "train    = ds_train.data.numpy(), np.eye(10)[ds_train.targets.numpy()]\n",
        "test     = ds_test.data.numpy(),  np.eye(10)[ds_test.targets.numpy()]\n",
        "x, y     = train\n",
        "\n",
        "# first image and label\n",
        "plt.imshow (x[0], cmap='binary')\n",
        "print ('first image x[0]:',x[0].shape)\n",
        "plt.show ()\n",
        "print ('y[0]:',y[0],f'(the label: {np.where (y[0] == 1.)[0][0]})')\n",
        "\n",
        "# convert data to batches\n",
        "batches       = Batches (train, 100)\n",
        "x, y          = next (batches)\n",
        "for count, b in enumerate(batches): pass\n",
        "print (f'\\ngenerate {count+1} batches with a size of {len(x)}',f'first batch (x, y): {x.shape, y.shape}',sep='\\n')\n",
        "x,y = b\n",
        "print (f'last  batch (x, y): {x.shape, y.shape}',sep='\\n')"
      ],
      "metadata": {
        "colab": {
          "base_uri": "https://localhost:8080/",
          "height": 534
        },
        "id": "kcfQrZhgJE5O",
        "outputId": "178aa0d3-bde4-4cde-fe67-d912e2be7bfc"
      },
      "execution_count": null,
      "outputs": [
        {
          "output_type": "stream",
          "name": "stdout",
          "text": [
            "first image x[0]: (28, 28)\n"
          ]
        },
        {
          "output_type": "display_data",
          "data": {
            "text/plain": [
              "<Figure size 640x480 with 1 Axes>"
            ],
            "image/png": "[encoded data removed]"
          },
          "metadata": {}
        },
        {
          "output_type": "stream",
          "name": "stdout",
          "text": [
            "y[0]: [0. 0. 0. 0. 0. 1. 0. 0. 0. 0.] (the label: 5)\n",
            "\n",
            "generate 600 batches with a size of 100\n",
            "first batch (x, y): (torch.Size([100, 784]), torch.Size([100, 10]))\n",
            "last  batch (x, y): (torch.Size([100, 784]), torch.Size([100, 10]))\n"
          ]
        }
      ]
    },
    {
      "cell_type": "markdown",
      "source": [
        "# Layer & Model\n",
        "\n",
        "There are several ways to implement a perceptron. In the stand-alone version you can put the activation in the Perceptron class. However, if you want a Multi Layer Perceptron (**MLP**), it's better to put them in the Layer class or even provide your own Layer class for it.\n",
        "\n",
        "<table>\n",
        "<tr><td>\n",
        "<img src='https://drive.google.com/uc?id=1CHMToYHABzq5zi0yy3wImEHeInbkaiMG' width=\"600\">\n",
        "</td><td>\n",
        "\n",
        "* The model has one **input** layer, several **hidden** layer<br> and one **output** layer.<br><br>\n",
        "* The input layer is not really a layer, it means the input<br> values aka **signals**.<br><br>\n",
        "* A layer represents one or more **Perceptrons**. Each of<br> them get the input values.<br><br>\n",
        "* The ouptuts of the perceptrons in a layer are the input<br> values for the perceptrons in the next layer.<br> This principle is called <b>feed forward</b>.<br><br>\n",
        "* This is how it looks:\n",
        "\n",
        ">```python\n",
        "x = torch.tensor ([1.0, 2.0]).to('cuda')\n",
        "#\n",
        "\"\"\" pytorch version \"\"\"\n",
        "from torch.nn import Linear, Sequential, Sigmoid\n",
        "model = Sequential( Linear (2,1), Sigmoid() ).to('cuda')\n",
        "y = model (x)\n",
        "#\n",
        "\"\"\" self-made version \"\"\"\n",
        "from torch import sigmoid\n",
        "model = Model ( Perceptrons (2,1,sigmoid) )\n",
        "y = model (x)\n",
        "```\n",
        "</td></tr>\n",
        "<tr><td colspan=2>\n",
        "ps. The <b>deep</b> in Deep Learning means a large number of layers.</td></tr>\n",
        "<tr></tr>\n",
        "<tr><td colspan=2>\n",
        "\n",
        "The code below shows how it works.\n",
        "</td></tr>\n",
        "</tabel>\n",
        "<tr></tr>\n"
      ],
      "metadata": {
        "id": "YNVG7qcURbei"
      }
    },
    {
      "cell_type": "code",
      "source": [
        "import torch\n",
        "from torch import randn, tensor, sigmoid, manual_seed, stack, squeeze\n",
        "\n",
        "manual_seed (0)\n",
        "\n",
        "class Perceptrons:\n",
        "  weights, bias, activation = None, None, None\n",
        "\n",
        "  def __init__(self, signals, count=1, activation=lambda x:x):\n",
        "    self.activation   = activation\n",
        "    device            = torch.device ('cuda' if torch.cuda.is_available() else 'cpu')\n",
        "    #                   transpose: ([signals,count]) => ([count,signals]).T\n",
        "    self.weights      = randn ([signals,count], requires_grad=True, device=device)  \n",
        "    self.bias         = randn ([count],         requires_grad=True, device=device)\n",
        "\n",
        "  def __call__(self, x): return self.activation ( x@self.weights + self.bias )\n",
        "\n",
        "\n",
        "class Model:\n",
        "  layers = None\n",
        "\n",
        "  def __init__(self, *layers):  self.layers = layers\n",
        "\n",
        "  def __call__(self, x): \n",
        "    for l in self.layers: \n",
        "      x = l(x)\n",
        "    return x\n",
        "\n",
        "  def parameters(self):         \n",
        "    for l in self.layers: yield (l.weights); yield (l.bias)\n",
        "\n",
        "m = Model (Perceptrons(2,1,sigmoid))\n",
        "x = tensor ([1.0,2.0]).to('cuda')\n",
        "y = m(x)\n",
        "y"
      ],
      "metadata": {
        "id": "B6xcf0ybBJXB",
        "colab": {
          "base_uri": "https://localhost:8080/"
        },
        "outputId": "0e23f834-4f59-4c35-cf2d-c82bff4cfe61"
      },
      "execution_count": null,
      "outputs": [
        {
          "output_type": "execute_result",
          "data": {
            "text/plain": [
              "tensor([0.1687], device='cuda:0', grad_fn=<SigmoidBackward0>)"
            ]
          },
          "metadata": {},
          "execution_count": 22
        }
      ]
    },
    {
      "cell_type": "markdown",
      "source": [
        "# Training & Optimizer\n",
        "In the training you do a **prediction** and compare that with the **expected**. We agree on the following terminology:<br>\n",
        ">$\\boldsymbol{\\large{y = predicted = target}=}$ ```y``` <br>\n",
        "$\\boldsymbol{\\large{\\hat{y} = expected = actual}=}$ ```y_```<br>\n",
        "\n",
        "<table><tr><td>\n",
        "<img src='https://drive.google.com/uc?id=1oPqWbq6C-DVn2oQ5HzG-NwynY-Vch16u'>\n",
        "</td><td><p>\n",
        "\n",
        "* The optimizer takes a batch of data and calculates for each<br> dataset in it the change values for all parameters of the model.<br><br>\n",
        "* The **loss** function uses the predicted and the expected values to calculate<br> an error, which is used to determine the change value. <br><br>\n",
        "* The **gradient** is the partial derivative of the loss function with<br> respect to a single parameter.<br><br>\n",
        "* The gradient determines the direction (+ or -) of the weight change,<br> the **learning rate** the size of the change.<br><br>\n",
        "* It adds up the change values and finally changes the parameters.<br> This is called the optimization **step**.<br><br>\n",
        "* The changes aim to improve the results of the model.This <br>optimization process is called **training**. <br><br>\n",
        "* If all batches are completely processed, we speak of a <br>training **epoch**.\n",
        "</td width=\"400\"></tr>\n",
        "</table>\n",
        "\n",
        "\n"
      ],
      "metadata": {
        "id": "J1NfMnUx4Mcn"
      }
    },
    {
      "cell_type": "code",
      "source": [
        "from torch import sigmoid, randn, tensor, manual_seed, stack, squeeze, nn as nn\n",
        "from torch.nn import functional as F\n",
        "\n",
        "class Optimizer:\n",
        "  params, lr = None, None\n",
        "  def __init__(self,params,lr): self.params,self.lr = list(params),lr\n",
        "\n",
        "  def step(self, *args, **kwargs): \n",
        "    for p in self.params: \n",
        "      p.data -= p.grad.data * self.lr\n",
        "\n",
        "  def zero_grad(self, *args, **kwargs): \n",
        "    for p in self.params: p.grad = None \n",
        "\n",
        "\n",
        "def training(epochs, model, batches, optimizer, loss_fn, metric=lambda a,t:''):\n",
        "  for epoch in range(epochs):\n",
        "    for x, y_ in batches:\n",
        "      y               = model (x)\n",
        "      loss            = loss_fn (y, y_) # the loss is base for backward\n",
        "      optimizer       . zero_grad ()\n",
        "      loss            . backward ()\n",
        "      optimizer       . step ()\n",
        "\n",
        "    if not epoch%10:  print (epoch, loss.item(), metric (y,y_)) # the metic is not\n",
        "  print (epoch, loss.item(), metric (y,y_))    \n",
        "\n",
        "m = Model (Perceptrons (28*28, 100, sigmoid), Perceptrons (100, 10) )\n",
        "\n",
        "print ('only a loss function is missing for training - so let\\'s look to the parameters\\n')\n",
        "print ('the parameters() funtction returns a generator, it alternately delivers weights and bias\\n')\n",
        "for p in m.parameters(): print (p.shape)"
      ],
      "metadata": {
        "id": "qzgKtk-oU_kQ",
        "colab": {
          "base_uri": "https://localhost:8080/"
        },
        "outputId": "61327e7f-4beb-43fb-898d-ccb9dd17161d"
      },
      "execution_count": null,
      "outputs": [
        {
          "output_type": "stream",
          "name": "stdout",
          "text": [
            "only a loss function is missing for training - so let's look to the parameters\n",
            "\n",
            "the parameters() funtction returns a generator, it alternately delivers weights and bias\n",
            "\n",
            "torch.Size([784, 100])\n",
            "torch.Size([100])\n",
            "torch.Size([100, 10])\n",
            "torch.Size([10])\n"
          ]
        }
      ]
    },
    {
      "cell_type": "markdown",
      "source": [
        "# Loss & Metric\n",
        "\n",
        "The **loss function** is used in training. It must be able to recognize by what amount the change in parameters has improved or degraded the model. The key **difference between loss and metric** is: the loss function is the basis for the **backward** function and is involved in the calculation of the change values - the metric function is not, it evaluates the model after an optimization step or after an epoch. The backward function is a **backpropagation algorithm** which implements the **delta rule**. I would like to mention here the **universal approximation theorem**, which is one of the theoretical foundations of **machine learning**.\n",
        "\n",
        "* Imagine you have the picture of a three ($x$) with its label ($\\hat y$, expected) and you do a prediction ($y$, predicted):<br>\n",
        "<table>\n",
        "<tr><td><p>expected: [</td><td>0.</td><td>0.</td><td>0.</td><td><b>1.</b></td><td>0.</td><td>0.</td><td>0.</td><td>0.</td><td>0.</td><td>0.</td><td><p>]</td></tr><tr></tr>\n",
        "<tr><td><p>predicted: [</td><td>0.1</td><td>0.2</td><td>0.1</td><td><b>0.8</b></td><td>0.1</td><td>0.3</td><td>0.4</td><td>0.2</td><td>0.1</td><td>0.3</td><td><p>]</td></tr>\n",
        "</table>\n",
        "* We can implement a loss function that works like this:<br>\n",
        ">```np.where (expected==1, 1-predicted, predicted)```<br><br>\n",
        "This code snippet generate error values by taking elementwise the expected and:<br>\n",
        ">* when the expected is zero the predicted value is the error value. (consider: first predicted is 0.1 away from the expected 0)\n",
        ">* when the expected is one the error is 1-predicted value. (consider: the fourth predicted is 0.8 - that means it is 0.2 away from the expected 1)\n",
        ">* This only works with values between 0 and 1 (sigmoid).\n",
        "<table><tr><td><p>error: [</td><td>0.1</td><td>0.2</td><td>0.1</td><td><b>0.2</b></td><td>0.1</td><td>0.3</td><td>0.4</td><td>0.2</td><td>0.1</td><td>0.3</td><td><p>]</td></tr></table>\n",
        "\n",
        "* Finaly we can use that snippet and calculate the mean.<br>\n",
        "```python\n",
        "predicted = predicted.sigmoid () # to ensure that all values are between 0 and 1\n",
        "np.where (expected==1, 1-predicted, predicted).mean() # = 0.2\n",
        "```\n",
        "We have a loss function.<br><br>\n",
        "\n",
        "\n",
        "The **metric** function measures the performance of the model - i.e. what percentage is correct. This is easy:\n",
        "\n",
        "$$\n",
        "\\frac{<count \\quad corrects> \\cdot \\; 100}{<count \\quad total>}\n",
        "$$\n",
        "\n",
        "* With the snippet \"```argmax( ... )```\" the one-hot-encoded values will be converted in to a number.\n",
        "```python\n",
        "sum( [argmax(y_) == argmax(y) \n",
        "        for y_, y in zip (expected,predicted) ] ).item()\n",
        " * 100 / len(actual)\n",
        "```\n",
        "* Now we can implement a metric called batch_accuracy:\n",
        "```python\n",
        "batch_accuracy (predicted, expected)\n",
        "```"
      ],
      "metadata": {
        "id": "70gwN72G_T6m"
      }
    },
    {
      "cell_type": "code",
      "source": [
        "from torch import argmax \n",
        "\n",
        "def mnist_loss (predicted, expected):\n",
        "  predicted = predicted.sigmoid ()\n",
        "  return torch.where (expected==1, 1-predicted, predicted).mean()\n",
        "\n",
        "def batch_accuracy (predicted, expected):\n",
        "  return round( sum( [argmax(y_) == argmax(y) \n",
        "                      for y_, y in zip (expected,predicted)] ).item()\n",
        "                * 100 / len(predicted), 2 )\n",
        "  \n",
        "\n",
        "m = Model (Perceptrons (28*28, 100, sigmoid), Perceptrons (100, 10) )\n",
        "b = Batches (train,100)\n",
        "o = Optimizer (m.parameters(),0.1)\n",
        "\n",
        "#training(50, m, b, o, mnist_loss, batch_accuracy)\n",
        "training(100, m, b, o, nn.CrossEntropyLoss(), batch_accuracy)\n",
        "\n"
      ],
      "metadata": {
        "colab": {
          "base_uri": "https://localhost:8080/"
        },
        "id": "JCLIBDZ37UhC",
        "outputId": "819f1fcc-267b-43d3-b961-c1c63ae81693"
      },
      "execution_count": null,
      "outputs": [
        {
          "output_type": "stream",
          "name": "stdout",
          "text": [
            "0 1.1259549856185913 65.0\n",
            "10 0.45471101999282837 85.0\n",
            "20 0.5129097700119019 81.0\n",
            "30 0.37102362513542175 87.0\n",
            "40 0.27018818259239197 90.0\n",
            "50 0.27025148272514343 91.0\n",
            "60 0.24779939651489258 92.0\n",
            "70 0.2994755804538727 91.0\n",
            "80 0.280507355928421 92.0\n",
            "90 0.34005218744277954 91.0\n",
            "99 0.32663920521736145 89.0\n"
          ]
        }
      ]
    },
    {
      "cell_type": "markdown",
      "source": [
        "You can see our model is really bad. Well, this model wasn't made to perform well, it was made to show how neural networks work. For a usable mnist model we need a convolutional neural network (**CNN**)."
      ],
      "metadata": {
        "id": "RQIIZAmORviK"
      }
    }
  ]
}